{
 "cells": [
  {
   "cell_type": "code",
   "execution_count": 1,
   "id": "334fe434",
   "metadata": {},
   "outputs": [],
   "source": [
    "from sympy import *\n",
    "init_printing()"
   ]
  },
  {
   "cell_type": "markdown",
   "id": "f566a9ea",
   "metadata": {},
   "source": [
    "Define time variable"
   ]
  },
  {
   "cell_type": "code",
   "execution_count": 2,
   "id": "550f3e42",
   "metadata": {},
   "outputs": [],
   "source": [
    "t = Symbol('t')"
   ]
  },
  {
   "cell_type": "markdown",
   "id": "6fd9e61e",
   "metadata": {},
   "source": [
    "Define parameter symbols"
   ]
  },
  {
   "cell_type": "code",
   "execution_count": 3,
   "id": "3feb9e2a",
   "metadata": {},
   "outputs": [],
   "source": [
    "# limb lengths\n",
    "l_1, l_2 = symbols('l_1, l_2')\n",
    "\n",
    "# limb masses\n",
    "m_1, m_2 = symbols('m_1, m_2')\n",
    "\n",
    "# joint stiffnesses\n",
    "k_B = symbols('k_B')\n",
    "\n",
    "# joint damping\n",
    "b_B = symbols('b_B')\n",
    "\n",
    "# joint neutral angles\n",
    "psi_B = symbols('psi_B')\n",
    "\n",
    "# Walking speed\n",
    "v = symbols('v')\n",
    "\n",
    "# Swing phase hip height\n",
    "y_A_SW = Function('y_ASW')(t)"
   ]
  },
  {
   "cell_type": "markdown",
   "id": "0ab90960",
   "metadata": {},
   "source": [
    "Define coordinate symbols"
   ]
  },
  {
   "cell_type": "code",
   "execution_count": 4,
   "id": "57c118d3",
   "metadata": {},
   "outputs": [],
   "source": [
    "# limb orientations\n",
    "theta_1 = Function('theta_1')(t)\n",
    "theta_2 = Function('theta_2')(t)\n",
    "\n",
    "# hip height\n",
    "y = Function('y')(t)"
   ]
  },
  {
   "cell_type": "markdown",
   "id": "4bec24d2",
   "metadata": {},
   "source": [
    "Calculate positions"
   ]
  },
  {
   "cell_type": "code",
   "execution_count": 5,
   "id": "6f2830c2",
   "metadata": {},
   "outputs": [],
   "source": [
    "# rates of change\n",
    "omega_1 = diff(theta_1)\n",
    "omega_2 = diff(theta_2)\n",
    "\n",
    "# joint positions\n",
    "x_A = 0\n",
    "y_A = y\n",
    "x_B = x_A + l_1 * sin(theta_1)\n",
    "y_B = y_A - l_1 * cos(theta_1)\n",
    "x_C = x_B + l_2 * sin(theta_2)\n",
    "y_C = y_B - l_2 * cos(theta_2)\n",
    "\n",
    "# joint velocities\n",
    "u_A = diff(x_A, t)\n",
    "v_A = diff(y_A, t)\n",
    "u_B = diff(x_B, t)\n",
    "v_B = diff(y_B, t)\n",
    "u_C = diff(x_C, t)\n",
    "v_C = diff(y_C, t)\n",
    "\n",
    "# Centers of masses\n",
    "x_1 = x_A + l_1 * sin(theta_1) / 2\n",
    "y_1 = y_A - l_1 * cos(theta_1) / 2\n",
    "x_2 = x_B + l_2 * sin(theta_2) / 2\n",
    "y_2 = y_B - l_2 * cos(theta_2) / 2\n",
    "\n",
    "# COM velocities\n",
    "u_1 = diff(x_1, t)\n",
    "v_1 = diff(y_1, t)\n",
    "u_2 = diff(x_2, t)\n",
    "v_2 = diff(y_2, t)"
   ]
  },
  {
   "cell_type": "code",
   "execution_count": 6,
   "id": "7d3e6de8",
   "metadata": {},
   "outputs": [],
   "source": [
    "# Moments of inertia\n",
    "I_1 = m_1 * l_1**2 / 12\n",
    "I_2 = m_2 * l_2**2 / 12"
   ]
  },
  {
   "cell_type": "markdown",
   "id": "42d958a5",
   "metadata": {},
   "source": [
    "Calculate Lagrangian"
   ]
  },
  {
   "cell_type": "code",
   "execution_count": 7,
   "id": "b97da828",
   "metadata": {},
   "outputs": [],
   "source": [
    "# Kinetic Energy\n",
    "T = m_1 * (u_1**2 + v_1**2) / 2 + m_2 * (u_2**2 + v_2**2) / 2 + I_1 * omega_1**2 / 2 + I_2 * omega_2**2 / 2 \n",
    "\n",
    "# Potential Energy\n",
    "V = k_B * (theta_1 - theta_2 - psi_B)**2 / 2\n",
    "\n",
    "# Content\n",
    "D = b_B * (omega_1 - omega_2)**2 / 2"
   ]
  },
  {
   "cell_type": "markdown",
   "id": "7379b7d3",
   "metadata": {},
   "source": [
    "Constraint Equations"
   ]
  },
  {
   "cell_type": "code",
   "execution_count": 8,
   "id": "37f4da15",
   "metadata": {},
   "outputs": [],
   "source": [
    "# Swing\n",
    "const_SW_y_A = y_A - y_A_SW\n",
    "\n",
    "# Foot Planted\n",
    "const_FP_y_C = y_C\n",
    "const_FP_u_C = u_C + v"
   ]
  },
  {
   "cell_type": "markdown",
   "id": "d229dfda",
   "metadata": {},
   "source": [
    "For only 2 free coordinates ($y$ and $\\theta_2$) there are too many constraints in the foot planted stage.\n",
    "\n",
    "We may need to make the angle $\\theta_1$ a free coordinate in the foot planted stage\n",
    "\n",
    "We could even make $\\theta_1$ free in both stages and let the driving force come from the constant forward motion $v$"
   ]
  },
  {
   "cell_type": "markdown",
   "id": "ad2b37e6",
   "metadata": {},
   "source": [
    "Solve constraints for variables"
   ]
  },
  {
   "cell_type": "code",
   "execution_count": 9,
   "id": "8ccd58ab",
   "metadata": {},
   "outputs": [
    {
     "data": {
      "image/png": "[encoded data removed]",
      "text/latex": [
       "$\\displaystyle y_{ASW}{\\left(t \\right)}$"
      ],
      "text/plain": [
       "y_ASW(t)"
      ]
     },
     "execution_count": 9,
     "metadata": {},
     "output_type": "execute_result"
    }
   ],
   "source": [
    "# Swing\n",
    "solve(const_SW_y_A, y)[0]"
   ]
  },
  {
   "cell_type": "code",
   "execution_count": 10,
   "id": "f842c7ed",
   "metadata": {},
   "outputs": [
    {
     "data": {
      "image/png": "[encoded data removed]",
      "text/latex": [
       "$\\displaystyle l_{1} \\cos{\\left(\\theta_{1}{\\left(t \\right)} \\right)} + l_{2} \\cos{\\left(\\theta_{2}{\\left(t \\right)} \\right)}$"
      ],
      "text/plain": [
       "l₁⋅cos(θ₁(t)) + l₂⋅cos(θ₂(t))"
      ]
     },
     "execution_count": 10,
     "metadata": {},
     "output_type": "execute_result"
    }
   ],
   "source": [
    "# Foot Planted 1: y\n",
    "y_FP = solve(const_FP_y_C, y)[0]\n",
    "y_FP"
   ]
  },
  {
   "cell_type": "code",
   "execution_count": 11,
   "id": "5fa50271",
   "metadata": {},
   "outputs": [
    {
     "data": {
      "image/png": "[encoded data removed]",
      "text/latex": [
       "$\\displaystyle - \\frac{l_{1} \\cos{\\left(\\theta_{1}{\\left(t \\right)} \\right)} \\frac{d}{d t} \\theta_{1}{\\left(t \\right)} + v}{l_{2} \\cos{\\left(\\theta_{2}{\\left(t \\right)} \\right)}}$"
      ],
      "text/plain": [
       " ⎛              d            ⎞ \n",
       "-⎜l₁⋅cos(θ₁(t))⋅──(θ₁(t)) + v⎟ \n",
       " ⎝              dt           ⎠ \n",
       "───────────────────────────────\n",
       "         l₂⋅cos(θ₂(t))         "
      ]
     },
     "execution_count": 11,
     "metadata": {},
     "output_type": "execute_result"
    }
   ],
   "source": [
    "# Foot planted 2: omega_2\n",
    "omega_2FP = solve(const_FP_u_C.subs(y, y_FP), omega_2)[0]\n",
    "\n",
    "omega_2FP"
   ]
  },
  {
   "cell_type": "markdown",
   "id": "8460dd9a",
   "metadata": {},
   "source": [
    "Equations of Motion (no efforts)"
   ]
  },
  {
   "cell_type": "code",
   "execution_count": 12,
   "id": "ae944269",
   "metadata": {},
   "outputs": [
    {
     "data": {
      "image/png": "[encoded data removed]",
      "text/latex": [
       "$\\displaystyle - b_{B} \\frac{d}{d t} \\theta_{1}{\\left(t \\right)} + b_{B} \\frac{d}{d t} \\theta_{2}{\\left(t \\right)} + k_{B} \\psi_{B} - k_{B} \\theta_{1}{\\left(t \\right)} + k_{B} \\theta_{2}{\\left(t \\right)} - \\frac{l_{1} l_{2} m_{2} \\sin{\\left(\\theta_{1}{\\left(t \\right)} - \\theta_{2}{\\left(t \\right)} \\right)} \\left(\\frac{d}{d t} \\theta_{1}{\\left(t \\right)}\\right)^{2}}{2} + \\frac{l_{1} l_{2} m_{2} \\cos{\\left(\\theta_{1}{\\left(t \\right)} - \\theta_{2}{\\left(t \\right)} \\right)} \\frac{d^{2}}{d t^{2}} \\theta_{1}{\\left(t \\right)}}{2} + \\frac{l_{2}^{2} m_{2} \\frac{d^{2}}{d t^{2}} \\theta_{2}{\\left(t \\right)}}{3} + \\frac{l_{2} m_{2} \\sin{\\left(\\theta_{2}{\\left(t \\right)} \\right)} \\frac{d^{2}}{d t^{2}} y{\\left(t \\right)}}{2}$"
      ],
      "text/plain": [
       "                                                                               ↪\n",
       "                                                                               ↪\n",
       "                                                                               ↪\n",
       "                                                                    l₁⋅l₂⋅m₂⋅s ↪\n",
       "      d               d                                                        ↪\n",
       "- b_B⋅──(θ₁(t)) + b_B⋅──(θ₂(t)) + k_B⋅ψ_B - k_B⋅θ₁(t) + k_B⋅θ₂(t) - ────────── ↪\n",
       "      dt              dt                                                       ↪\n",
       "\n",
       "↪                                                               2              ↪\n",
       "↪                              2                               d               ↪\n",
       "↪                   ⎛d        ⎞    l₁⋅l₂⋅m₂⋅cos(θ₁(t) - θ₂(t))⋅───(θ₁(t))   l₂ ↪\n",
       "↪ in(θ₁(t) - θ₂(t))⋅⎜──(θ₁(t))⎟                                  2             ↪\n",
       "↪                   ⎝dt       ⎠                                dt              ↪\n",
       "↪ ────────────────────────────── + ────────────────────────────────────── + ── ↪\n",
       "↪          2                                         2                         ↪\n",
       "\n",
       "↪       2                             2       \n",
       "↪ 2    d                             d        \n",
       "↪  ⋅m₂⋅───(θ₂(t))   l₂⋅m₂⋅sin(θ₂(t))⋅───(y(t))\n",
       "↪        2                             2      \n",
       "↪      dt                            dt       \n",
       "↪ ─────────────── + ──────────────────────────\n",
       "↪       3                       2             "
      ]
     },
     "execution_count": 12,
     "metadata": {},
     "output_type": "execute_result"
    }
   ],
   "source": [
    "# theta_2\n",
    "EOM_2 = simplify(diff(diff(T, omega_2), t) - diff(T, theta_2) + diff(D, omega_2) + diff(V, theta_2))\n",
    "EOM_2"
   ]
  },
  {
   "cell_type": "markdown",
   "id": "7d0ec1fc",
   "metadata": {},
   "source": [
    "Substitute constraints into Equations of Motion"
   ]
  },
  {
   "cell_type": "code",
   "execution_count": 13,
   "id": "e811b90b",
   "metadata": {},
   "outputs": [
    {
     "data": {
      "image/png": "[encoded data removed]",
      "text/latex": [
       "$\\displaystyle - b_{B} \\frac{d}{d t} \\theta_{1}{\\left(t \\right)} + b_{B} \\frac{d}{d t} \\theta_{2}{\\left(t \\right)} + k_{B} \\psi_{B} - k_{B} \\theta_{1}{\\left(t \\right)} + k_{B} \\theta_{2}{\\left(t \\right)} - \\frac{l_{1} l_{2} m_{2} \\sin{\\left(\\theta_{1}{\\left(t \\right)} - \\theta_{2}{\\left(t \\right)} \\right)} \\left(\\frac{d}{d t} \\theta_{1}{\\left(t \\right)}\\right)^{2}}{2} + \\frac{l_{1} l_{2} m_{2} \\cos{\\left(\\theta_{1}{\\left(t \\right)} - \\theta_{2}{\\left(t \\right)} \\right)} \\frac{d^{2}}{d t^{2}} \\theta_{1}{\\left(t \\right)}}{2} + \\frac{l_{2}^{2} m_{2} \\frac{d^{2}}{d t^{2}} \\theta_{2}{\\left(t \\right)}}{3} + \\frac{l_{2} m_{2} \\sin{\\left(\\theta_{2}{\\left(t \\right)} \\right)} \\frac{d^{2}}{d t^{2}} y_{ASW}{\\left(t \\right)}}{2}$"
      ],
      "text/plain": [
       "                                                                               ↪\n",
       "                                                                               ↪\n",
       "                                                                               ↪\n",
       "                                                                    l₁⋅l₂⋅m₂⋅s ↪\n",
       "      d               d                                                        ↪\n",
       "- b_B⋅──(θ₁(t)) + b_B⋅──(θ₂(t)) + k_B⋅ψ_B - k_B⋅θ₁(t) + k_B⋅θ₂(t) - ────────── ↪\n",
       "      dt              dt                                                       ↪\n",
       "\n",
       "↪                                                               2              ↪\n",
       "↪                              2                               d               ↪\n",
       "↪                   ⎛d        ⎞    l₁⋅l₂⋅m₂⋅cos(θ₁(t) - θ₂(t))⋅───(θ₁(t))   l₂ ↪\n",
       "↪ in(θ₁(t) - θ₂(t))⋅⎜──(θ₁(t))⎟                                  2             ↪\n",
       "↪                   ⎝dt       ⎠                                dt              ↪\n",
       "↪ ────────────────────────────── + ────────────────────────────────────── + ── ↪\n",
       "↪          2                                         2                         ↪\n",
       "\n",
       "↪       2                             2           \n",
       "↪ 2    d                             d            \n",
       "↪  ⋅m₂⋅───(θ₂(t))   l₂⋅m₂⋅sin(θ₂(t))⋅───(y_ASW(t))\n",
       "↪        2                             2          \n",
       "↪      dt                            dt           \n",
       "↪ ─────────────── + ──────────────────────────────\n",
       "↪       3                         2               "
      ]
     },
     "execution_count": 13,
     "metadata": {},
     "output_type": "execute_result"
    }
   ],
   "source": [
    "# Swing\n",
    "EOM_2_SW = EOM_2.subs(y, y_A_SW)\n",
    "EOM_2_SW"
   ]
  },
  {
   "cell_type": "code",
   "execution_count": 14,
   "id": "ca69dabd",
   "metadata": {},
   "outputs": [
    {
     "data": {
      "image/png": "[encoded data removed]",
      "text/latex": [
       "$\\displaystyle \\frac{3 \\left(2 b_{B} \\frac{d}{d t} \\theta_{1}{\\left(t \\right)} - 2 b_{B} \\frac{d}{d t} \\theta_{2}{\\left(t \\right)} - 2 k_{B} \\psi_{B} + 2 k_{B} \\theta_{1}{\\left(t \\right)} - 2 k_{B} \\theta_{2}{\\left(t \\right)} + l_{2} m_{2} \\left(l_{1} \\sin{\\left(\\theta_{1}{\\left(t \\right)} - \\theta_{2}{\\left(t \\right)} \\right)} \\left(\\frac{d}{d t} \\theta_{1}{\\left(t \\right)}\\right)^{2} - l_{1} \\cos{\\left(\\theta_{1}{\\left(t \\right)} - \\theta_{2}{\\left(t \\right)} \\right)} \\frac{d^{2}}{d t^{2}} \\theta_{1}{\\left(t \\right)} - \\sin{\\left(\\theta_{2}{\\left(t \\right)} \\right)} \\frac{d^{2}}{d t^{2}} y_{ASW}{\\left(t \\right)}\\right)\\right)}{2 l_{2}^{2} m_{2}}$"
      ],
      "text/plain": [
       "  ⎛                                                                            ↪\n",
       "  ⎜      d                 d                                                   ↪\n",
       "3⋅⎜2⋅b_B⋅──(θ₁(t)) - 2⋅b_B⋅──(θ₂(t)) - 2⋅k_B⋅ψ_B + 2⋅k_B⋅θ₁(t) - 2⋅k_B⋅θ₂(t) + ↪\n",
       "  ⎜      dt                dt                                                  ↪\n",
       "  ⎝                                                                            ↪\n",
       "────────────────────────────────────────────────────────────────────────────── ↪\n",
       "                                                                               ↪\n",
       "                                                                               ↪\n",
       "\n",
       "↪        ⎛                                 2                          2        ↪\n",
       "↪        ⎜                      ⎛d        ⎞                          d         ↪\n",
       "↪  l₂⋅m₂⋅⎜l₁⋅sin(θ₁(t) - θ₂(t))⋅⎜──(θ₁(t))⎟  - l₁⋅cos(θ₁(t) - θ₂(t))⋅───(θ₁(t) ↪\n",
       "↪        ⎜                      ⎝dt       ⎠                            2       ↪\n",
       "↪        ⎝                                                           dt        ↪\n",
       "↪ ──────────────────────────────────────────────────────────────────────────── ↪\n",
       "↪               2                                                              ↪\n",
       "↪           2⋅l₂ ⋅m₂                                                           ↪\n",
       "\n",
       "↪                 2           ⎞⎞\n",
       "↪                d            ⎟⎟\n",
       "↪ ) - sin(θ₂(t))⋅───(y_ASW(t))⎟⎟\n",
       "↪                  2          ⎟⎟\n",
       "↪                dt           ⎠⎠\n",
       "↪ ──────────────────────────────\n",
       "↪                               \n",
       "↪                               "
      ]
     },
     "execution_count": 14,
     "metadata": {},
     "output_type": "execute_result"
    }
   ],
   "source": [
    "# Solve for derivative of omega_2\n",
    "alpha_2_SW = solve(EOM_2_SW, diff(omega_2, t))[0]\n",
    "alpha_2_SW"
   ]
  },
  {
   "cell_type": "markdown",
   "id": "74674156",
   "metadata": {},
   "source": [
    "Final differential Equations"
   ]
  },
  {
   "cell_type": "markdown",
   "id": "c3ab73ea",
   "metadata": {},
   "source": [
    "Swing Phase"
   ]
  },
  {
   "cell_type": "code",
   "execution_count": 15,
   "id": "a8f91d31",
   "metadata": {},
   "outputs": [
    {
     "data": {
      "image/png": "[encoded data removed]",
      "text/latex": [
       "$\\displaystyle \\frac{d^{2}}{d t^{2}} \\theta_{2}{\\left(t \\right)} = \\frac{3 \\left(2 b_{B} \\frac{d}{d t} \\theta_{1}{\\left(t \\right)} - 2 b_{B} \\frac{d}{d t} \\theta_{2}{\\left(t \\right)} - 2 k_{B} \\psi_{B} + 2 k_{B} \\theta_{1}{\\left(t \\right)} - 2 k_{B} \\theta_{2}{\\left(t \\right)} + l_{2} m_{2} \\left(l_{1} \\sin{\\left(\\theta_{1}{\\left(t \\right)} - \\theta_{2}{\\left(t \\right)} \\right)} \\left(\\frac{d}{d t} \\theta_{1}{\\left(t \\right)}\\right)^{2} - l_{1} \\cos{\\left(\\theta_{1}{\\left(t \\right)} - \\theta_{2}{\\left(t \\right)} \\right)} \\frac{d^{2}}{d t^{2}} \\theta_{1}{\\left(t \\right)} - \\sin{\\left(\\theta_{2}{\\left(t \\right)} \\right)} \\frac{d^{2}}{d t^{2}} y_{ASW}{\\left(t \\right)}\\right)\\right)}{2 l_{2}^{2} m_{2}}$"
      ],
      "text/plain": [
       "               ⎛                                                               ↪\n",
       "               ⎜      d                 d                                      ↪\n",
       "             3⋅⎜2⋅b_B⋅──(θ₁(t)) - 2⋅b_B⋅──(θ₂(t)) - 2⋅k_B⋅ψ_B + 2⋅k_B⋅θ₁(t) -  ↪\n",
       " 2             ⎜      dt                dt                                     ↪\n",
       "d              ⎝                                                               ↪\n",
       "───(θ₂(t)) = ───────────────────────────────────────────────────────────────── ↪\n",
       "  2                                                                            ↪\n",
       "dt                                                                             ↪\n",
       "\n",
       "↪                     ⎛                                 2                      ↪\n",
       "↪                     ⎜                      ⎛d        ⎞                       ↪\n",
       "↪ 2⋅k_B⋅θ₂(t) + l₂⋅m₂⋅⎜l₁⋅sin(θ₁(t) - θ₂(t))⋅⎜──(θ₁(t))⎟  - l₁⋅cos(θ₁(t) - θ₂( ↪\n",
       "↪                     ⎜                      ⎝dt       ⎠                       ↪\n",
       "↪                     ⎝                                                        ↪\n",
       "↪ ──────────────────────────────────────────────────────────────────────────── ↪\n",
       "↪                            2                                                 ↪\n",
       "↪                        2⋅l₂ ⋅m₂                                              ↪\n",
       "\n",
       "↪      2                       2           ⎞⎞\n",
       "↪     d                       d            ⎟⎟\n",
       "↪ t))⋅───(θ₁(t)) - sin(θ₂(t))⋅───(y_ASW(t))⎟⎟\n",
       "↪       2                       2          ⎟⎟\n",
       "↪     dt                      dt           ⎠⎠\n",
       "↪ ───────────────────────────────────────────\n",
       "↪                                            \n",
       "↪                                            "
      ]
     },
     "execution_count": 15,
     "metadata": {},
     "output_type": "execute_result"
    }
   ],
   "source": [
    "Eq(diff(omega_2), alpha_2_SW)"
   ]
  },
  {
   "cell_type": "markdown",
   "id": "99a4acd4",
   "metadata": {},
   "source": [
    "Foot Planted Phase"
   ]
  },
  {
   "cell_type": "code",
   "execution_count": 16,
   "id": "288f2b32",
   "metadata": {},
   "outputs": [
    {
     "data": {
      "image/png": "[encoded data removed]",
      "text/latex": [
       "$\\displaystyle \\frac{d}{d t} \\theta_{2}{\\left(t \\right)} = - \\frac{l_{1} \\cos{\\left(\\theta_{1}{\\left(t \\right)} \\right)} \\frac{d}{d t} \\theta_{1}{\\left(t \\right)} + v}{l_{2} \\cos{\\left(\\theta_{2}{\\left(t \\right)} \\right)}}$"
      ],
      "text/plain": [
       "             ⎛              d            ⎞ \n",
       "            -⎜l₁⋅cos(θ₁(t))⋅──(θ₁(t)) + v⎟ \n",
       "d            ⎝              dt           ⎠ \n",
       "──(θ₂(t)) = ───────────────────────────────\n",
       "dt                   l₂⋅cos(θ₂(t))         "
      ]
     },
     "execution_count": 16,
     "metadata": {},
     "output_type": "execute_result"
    }
   ],
   "source": [
    "Eq(omega_2, omega_2FP)"
   ]
  },
  {
   "cell_type": "code",
   "execution_count": 17,
   "id": "7767511c",
   "metadata": {},
   "outputs": [
    {
     "data": {
      "image/png": "[encoded data removed]",
      "text/latex": [
       "$\\displaystyle y{\\left(t \\right)} = l_{1} \\cos{\\left(\\theta_{1}{\\left(t \\right)} \\right)} + l_{2} \\cos{\\left(\\theta_{2}{\\left(t \\right)} \\right)}$"
      ],
      "text/plain": [
       "y(t) = l₁⋅cos(θ₁(t)) + l₂⋅cos(θ₂(t))"
      ]
     },
     "execution_count": 17,
     "metadata": {},
     "output_type": "execute_result"
    }
   ],
   "source": [
    "Eq(y, y_FP)"
   ]
  }
 ],
 "metadata": {
  "kernelspec": {
   "display_name": "ME469",
   "language": "python",
   "name": "python3"
  },
  "language_info": {
   "codemirror_mode": {
    "name": "ipython",
    "version": 3
   },
   "file_extension": ".py",
   "mimetype": "text/x-python",
   "name": "python",
   "nbconvert_exporter": "python",
   "pygments_lexer": "ipython3",
   "version": "3.11.11"
  }
 },
 "nbformat": 4,
 "nbformat_minor": 5
}
