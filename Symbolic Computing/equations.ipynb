{
 "cells": [
  {
   "cell_type": "code",
   "execution_count": 21,
   "id": "fdaf9795",
   "metadata": {},
   "outputs": [],
   "source": [
    "from sympy import *\n",
    "init_printing()"
   ]
  },
  {
   "cell_type": "markdown",
   "id": "27b009e6",
   "metadata": {},
   "source": [
    "Define time variable"
   ]
  },
  {
   "cell_type": "code",
   "execution_count": 22,
   "id": "2b3e4195",
   "metadata": {},
   "outputs": [],
   "source": [
    "t = Symbol('t')"
   ]
  },
  {
   "cell_type": "markdown",
   "id": "388112d2",
   "metadata": {},
   "source": [
    "Define parameter symbols"
   ]
  },
  {
   "cell_type": "code",
   "execution_count": 23,
   "id": "33442e03",
   "metadata": {},
   "outputs": [
    {
     "name": "stderr",
     "output_type": "stream",
     "text": [
      "<>:14: SyntaxWarning: invalid escape sequence '\\p'\n",
      "<>:14: SyntaxWarning: invalid escape sequence '\\p'\n",
      "C:\\Users\\natha\\AppData\\Local\\Temp\\ipykernel_38628\\1851182827.py:14: SyntaxWarning: invalid escape sequence '\\p'\n",
      "  psi_B, psi_C = symbols('\\psi_B, \\psi_C')\n"
     ]
    }
   ],
   "source": [
    "# limb lengths\n",
    "l_1, l_2, l_3, l_4 = symbols('l_1, l_2, l_3, l_4')\n",
    "\n",
    "# limb masses\n",
    "m_1, m_2, m_3 = symbols('m_1, m_2, m_3')\n",
    "\n",
    "# joint stiffnesses\n",
    "k_B, k_C = symbols('k_B, k_C')\n",
    "\n",
    "# joint damping\n",
    "b_B, b_C = symbols('b_B, b_C')\n",
    "\n",
    "# joint neutral angles\n",
    "psi_B, psi_C = symbols('\\psi_B, \\psi_C')\n",
    "\n",
    "# foot angle\n",
    "phi_D = symbols('phi_E')\n",
    "\n",
    "# I_1, I_2, I_3 = symbols('I_1, I_2, I_3')"
   ]
  },
  {
   "cell_type": "markdown",
   "id": "b9cee9c7",
   "metadata": {},
   "source": [
    "Define coordinate symbols"
   ]
  },
  {
   "cell_type": "code",
   "execution_count": 24,
   "id": "a5bf7f8e",
   "metadata": {},
   "outputs": [],
   "source": [
    "# limb orientations\n",
    "theta_1 = Function('theta_1')(t)\n",
    "theta_2 = Function('theta_2')(t)\n",
    "theta_3 = Function('theta_3')(t)\n",
    "\n",
    "# hip height\n",
    "y = Function('y')(t)\n",
    "\n",
    "# x_A, x_B, x_C, x_D, x_E, x_1, x_2, x_3 = symbols('x_A, x_B, x_C, x_D, x_E, x_1, x_2, x_3')\n",
    "# y_A, y_B, y_C, y_D, y_E, y_1, y_2, y_3 = symbols('y_A, y_B, y_C, y_D, y_E, y_1, y_2, y_3')"
   ]
  },
  {
   "cell_type": "markdown",
   "id": "34219b9c",
   "metadata": {},
   "source": [
    "Calculate positions"
   ]
  },
  {
   "cell_type": "code",
   "execution_count": 25,
   "id": "b619e5b4",
   "metadata": {},
   "outputs": [],
   "source": [
    "# rates of change\n",
    "omega_1 = diff(theta_1)\n",
    "omega_2 = diff(theta_2)\n",
    "omega_3 = diff(theta_3)\n",
    "v = diff(y)\n",
    "\n",
    "# heel angle\n",
    "theta_4 = theta_3 - phi_D\n",
    "omega_4 = diff(theta_4, t)\n",
    "\n",
    "# joint positions\n",
    "x_A = 0\n",
    "y_A = y\n",
    "x_B = x_A + l_1 * sin(theta_1)\n",
    "y_B = y_A - l_1 * cos(theta_1)\n",
    "x_C = x_B + l_2 * sin(theta_2)\n",
    "y_C = y_B - l_2 * cos(theta_2)\n",
    "x_D = x_C + l_3 * sin(theta_3)\n",
    "y_D = y_C - l_3 * cos(theta_3)\n",
    "x_E = x_C + l_4 * sin(theta_4)\n",
    "y_E = y_C - l_4 * cos(theta_4)\n",
    "\n",
    "# joint velocities\n",
    "u_A = diff(x_A, t)\n",
    "v_A = diff(y_A, t)\n",
    "\n",
    "# Centers of masses\n",
    "x_1 = x_A + l_1 * sin(theta_1) / 2\n",
    "y_1 = y_A - l_1 * cos(theta_1) / 2\n",
    "x_2 = x_B + l_2 * sin(theta_2) / 2\n",
    "y_2 = y_B - l_2 * cos(theta_2) / 2\n",
    "x_3 = x_C + l_3 * sin(theta_3) / 2\n",
    "y_3 = y_C - l_3 * cos(theta_3) / 2\n",
    "\n",
    "# COM velocities\n",
    "u_1 = diff(x_1, t)\n",
    "v_1 = diff(y_1, t)\n",
    "u_2 = diff(x_2, t)\n",
    "v_2 = diff(y_2, t)\n",
    "u_3 = diff(x_3, t)\n",
    "v_3 = diff(y_3, t)"
   ]
  },
  {
   "cell_type": "code",
   "execution_count": 26,
   "id": "5ddab5d0",
   "metadata": {},
   "outputs": [],
   "source": [
    "# Moments of inertia\n",
    "I_1 = m_1 * l_1**2 / 12\n",
    "I_2 = m_2 * l_2**2 / 12\n",
    "I_3 = m_3 * l_3**2 / 12"
   ]
  },
  {
   "cell_type": "code",
   "execution_count": 27,
   "id": "c742cdb7",
   "metadata": {},
   "outputs": [
    {
     "data": {
      "image/png": "[encoded data removed]",
      "text/latex": [
       "$\\displaystyle l_{1} \\sin{\\left(\\theta_{1}{\\left(t \\right)} \\right)} + l_{2} \\sin{\\left(\\theta_{2}{\\left(t \\right)} \\right)} - l_{4} \\sin{\\left(\\phi_{E} - \\theta_{3}{\\left(t \\right)} \\right)}$"
      ],
      "text/plain": [
       "l₁⋅sin(θ₁(t)) + l₂⋅sin(θ₂(t)) - l₄⋅sin(φ_E - θ₃(t))"
      ]
     },
     "execution_count": 27,
     "metadata": {},
     "output_type": "execute_result"
    }
   ],
   "source": [
    "# read the expression for x_E\n",
    "x_E"
   ]
  },
  {
   "cell_type": "markdown",
   "id": "9e1db1fb",
   "metadata": {},
   "source": [
    "Calculate Lagrangian"
   ]
  },
  {
   "cell_type": "code",
   "execution_count": 28,
   "id": "eee864e4",
   "metadata": {},
   "outputs": [],
   "source": [
    "# Kinetic Energy\n",
    "T = m_1 * (u_1**2 + v_1**2) / 2 + m_2 * (u_2**2 + v_2**2) / 2 + m_3 * (u_3**2 + v_3**2) / 2 + I_1 * omega_1**2 / 2 + I_2 * omega_2**2 / 2 + I_3 * omega_3**2 / 2\n",
    "\n",
    "# Potential Energy\n",
    "V = k_B * (theta_1 - theta_2 - psi_B)**2 / 2 + k_C * (theta_2 - theta_3 - psi_C)**2 / 2\n",
    "\n",
    "# Content\n",
    "D = b_B * (omega_1 - omega_2)**2 / 2 + b_C * (omega_2 - omega_3)**2 / 2"
   ]
  },
  {
   "cell_type": "code",
   "execution_count": null,
   "id": "8be14631",
   "metadata": {},
   "outputs": [],
   "source": [
    "## Constraint equations ###\n",
    "\n",
    "''' Notes: \n",
    "    - This is a section to lay out the constraints/define the \"regiemes\". I am wondering if for our analysis we should pull set this in a \n",
    "       for loop? By that I mean should it be have a matrix where time is the top row and we have a row for each theta. At every time interval \n",
    "       we have a measured theta. The below constraints then are only active over their \"regieme\" and apply to the analysis in their specified\n",
    "       time domain?\n",
    "    '''\n",
    "\n",
    "# Swing\n",
    "\n",
    "'''Notes:\n",
    "      - This is the stage where the one leg is swinging while the other leg is standing up going through the cycle.\n",
    "  \n",
    "  '''\n",
    "\n",
    "const_FP_y_A = Eq(y_A, l_4 + l_2*cos(theta_2) + l_1*cos(theta_1))\n",
    "\n",
    "\n",
    "# Heel_Strike\n",
    "'''Notes:\n",
    "            - This is where heel strike contacts the gorund and jhas the following contraints\n",
    "                - y_E = 0\n",
    "                - u_3 = 0\n",
    "                - v_3 = 0 \n",
    "                - y_D = ED*sin(theta3) This is inherent to the system will not be set\n",
    "\n",
    "                Side: Note, should this be a for loop with a matrix? like for t = .1->.25 then have the HS constraints?\n",
    "                   '''\n",
    "\n",
    "const_HS_y_E = Eq(y_E, 0)\n",
    "const_HS_u_3 = Eq(u_3, 0)\n",
    "const_HS_v_3 = Eq(v_3, 0)\n",
    "\n",
    "\n",
    "# Foot_Planted\n",
    "\n",
    "'''Notes:\n",
    "            - This is where the foot is \"pulling\" across the ground to push the body forward. As we have restricted Y to the 0,0\n",
    "              position, the foot will be moving around it.\n",
    "                - y_E = 0 due to the foot being on the ground\n",
    "                - y_D = 0 due to the foot being on the gorund\n",
    "                - v_3 = due to the foot not traveling upward \n",
    "                   '''\n",
    "\n",
    "const_FP_y_E = Eq(y_E, 0) \n",
    "const_FP_y_E = Eq(y_D, 0)\n",
    "const_FP_v_3 = Eq(v_3, 0)\n",
    "const_FP_y_A = Eq(y_A, l_4 + l_2*cos(theta_2) + l_1*cos(theta_1))\n",
    "\n",
    "# Toe_Lift_Off\n",
    "'''Notes:\n",
    "            - This is where the toe is about to kick off of the ground. \n",
    "                - y_D = 0 due to the foot being on the gorund\n",
    "\n",
    "'''\n",
    "\n",
    "const_TLO_y_D = Eq(y_D,0)\n"
   ]
  },
  {
   "cell_type": "code",
   "execution_count": null,
   "id": "fead82ca",
   "metadata": {},
   "outputs": [],
   "source": []
  }
 ],
 "metadata": {
  "kernelspec": {
   "display_name": "Shakey",
   "language": "python",
   "name": "python3"
  },
  "language_info": {
   "codemirror_mode": {
    "name": "ipython",
    "version": 3
   },
   "file_extension": ".py",
   "mimetype": "text/x-python",
   "name": "python",
   "nbconvert_exporter": "python",
   "pygments_lexer": "ipython3",
   "version": "3.13.2"
  }
 },
 "nbformat": 4,
 "nbformat_minor": 5
}
