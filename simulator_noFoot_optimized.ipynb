{
 "cells": [
  {
   "cell_type": "code",
   "execution_count": 79,
   "id": "017b028a",
   "metadata": {},
   "outputs": [],
   "source": [
    "import numpy as np\n",
    "from scipy.integrate import solve_ivp\n",
    "from scipy.interpolate import BarycentricInterpolator\n",
    "from numpy import sin, cos, pi\n",
    "import matplotlib.pyplot as plt"
   ]
  },
  {
   "cell_type": "code",
   "execution_count": 80,
   "id": "f326c2ff",
   "metadata": {},
   "outputs": [],
   "source": [
    "## Parameters\n",
    "\n",
    "# limb lengths\n",
    "l_1, l_2 = 1, 1\n",
    "\n",
    "# limb masses\n",
    "m_1, m_2 = 1, 1\n",
    "\n",
    "# body mass\n",
    "m_A = 1\n",
    "\n",
    "# gravity\n",
    "g = 9.81\n",
    "\n",
    "# joint stiffnesses\n",
    "k_B = 1\n",
    "\n",
    "# joint damping\n",
    "b_B = 1\n",
    "\n",
    "# joint neutral angles\n",
    "psi_B = pi/12\n",
    "\n",
    "# Walking speed\n",
    "v = 1"
   ]
  },
  {
   "cell_type": "code",
   "execution_count": 81,
   "id": "395043e7",
   "metadata": {},
   "outputs": [],
   "source": [
    "# Made-up data\n",
    "n = 20 # keep below 30 for stability\n",
    "t_array = np.linspace(0, 10, n)\n",
    "y_array = 0.1 * cos(pi * t_array)\n",
    "theta_1_array = sin(pi * t_array)"
   ]
  },
  {
   "cell_type": "code",
   "execution_count": 82,
   "id": "8135309f",
   "metadata": {},
   "outputs": [],
   "source": [
    "# Precompute derivatives correctly\n",
    "#y_ip_2nd     = y_ip.derivative(2)\n",
    "#theta1_ip_1st = theta1_ip.derivative(1)\n",
    "#theta1_ip_2nd = theta1_ip.derivative(2)\n",
    "\n",
    "#def a_func(t):      return y_ip_2nd(t)\n",
    "#def theta1_func(t): return theta1_ip(t)\n",
    "#def omega1_func(t): return theta1_ip_1st(t)\n",
    "#def alpha1_func(t): return theta1_ip_2nd(t)\n"
   ]
  },
  {
   "cell_type": "code",
   "execution_count": 83,
   "id": "a63adfcb",
   "metadata": {},
   "outputs": [],
   "source": [
    "# Create interpolators for data\n",
    "y_interp = BarycentricInterpolator(t_array, y_array)\n",
    "theta_1_interp = BarycentricInterpolator(t_array, theta_1_array)"
   ]
  },
  {
   "cell_type": "code",
   "execution_count": 84,
   "id": "34ff2464",
   "metadata": {},
   "outputs": [],
   "source": [
    "# functions for inputs of time from interpolators\n",
    "def a_func(t):\n",
    "    return y_interp.derivative(t, 2)\n",
    "\n",
    "def theta_1_func(t):\n",
    "    return theta_1_interp(t)\n",
    "\n",
    "def omega_1_func(t):\n",
    "    return theta_1_interp.derivative(t, 1)\n",
    "\n",
    "def alpha_1_func(t):\n",
    "    return theta_1_interp.derivative(t, 2)"
   ]
  },
  {
   "cell_type": "code",
   "execution_count": 85,
   "id": "78bcd9ed",
   "metadata": {},
   "outputs": [],
   "source": [
    "def swing(t, state):\n",
    "    # determine input values\n",
    "    a = a_func(t)\n",
    "    theta_1 = theta_1_func(t)\n",
    "    omega_1 = omega_1_func(t)\n",
    "    alpha_1 = alpha_1_func(t)\n",
    "\n",
    "    # unpack state\n",
    "    theta_2 = state[0]\n",
    "    omega_2 = state[1]\n",
    "\n",
    "    # calculate derivatives with EOMs\n",
    "    alpha_2 = 3*b_B*omega_1/(l_2**2*m_2) - 3*b_B*omega_2/(l_2**2*m_2) - 3*g*sin(theta_2)/(2*l_2) - 3*k_B*psi_B/(l_2**2*m_2) + 3*k_B*theta_1/(l_2**2*m_2) - 3*k_B*theta_2/(l_2**2*m_2) + 3*l_1*sin(theta_1 - theta_2)*omega_1**2/(2*l_2) - 3*l_1*cos(theta_1 - theta_2)*alpha_1/(2*l_2) - 3*sin(theta_2)*a/(2*l_2)\n",
    "\n",
    "    # Pack derivatives into array and return\n",
    "    return np.array((omega_2, alpha_2))\n"
   ]
  },
  {
   "cell_type": "code",
   "execution_count": 86,
   "id": "959a5ca6",
   "metadata": {},
   "outputs": [],
   "source": [
    "# Initial conditions\n",
    "theta_2_0 = 1\n",
    "omega_2_0 = 0\n",
    "state0 = np.array([theta_2_0, omega_2_0])"
   ]
  },
  {
   "cell_type": "code",
   "execution_count": 87,
   "id": "9cf0ae9e",
   "metadata": {},
   "outputs": [],
   "source": [
    "# Solve IVP\n",
    "t_span = (t_array[0], t_array[-1])\n",
    "t_eval = np.linspace(*t_span, 1000)\n",
    "solution = solve_ivp(swing, t_span, state0, t_eval=t_eval)"
   ]
  },
  {
   "cell_type": "code",
   "execution_count": 88,
   "id": "7d8015a7",
   "metadata": {},
   "outputs": [],
   "source": [
    "# Unpack Solution\n",
    "t = solution.t\n",
    "state = solution.y\n",
    "theta_2 = state[0, :]\n",
    "omega_2 = state[0, :]"
   ]
  },
  {
   "cell_type": "code",
   "execution_count": 89,
   "id": "46c24148",
   "metadata": {},
   "outputs": [
    {
     "data": {
      "image/png": "[encoded data removed]",
      "text/plain": [
       "<Figure size 576x360 with 1 Axes>"
      ]
     },
     "metadata": {
      "needs_background": "light"
     },
     "output_type": "display_data"
    }
   ],
   "source": [
    "# Plot Solution\n",
    "plt.figure(figsize=(8,5))\n",
    "plt.plot(t, theta_2)\n",
    "plt.xlabel(r'$t$')\n",
    "plt.ylabel(r'$\\theta_2$')\n",
    "plt.show()"
   ]
  },
  {
   "cell_type": "code",
   "execution_count": null,
   "id": "b16aab39",
   "metadata": {},
   "outputs": [],
   "source": []
  },
  {
   "cell_type": "markdown",
   "id": "656f2f8a",
   "metadata": {},
   "source": [
    "# Optimization"
   ]
  },
  {
   "cell_type": "code",
   "execution_count": 93,
   "id": "35add4b3",
   "metadata": {},
   "outputs": [],
   "source": [
    "import numpy as np\n",
    "from scipy.integrate import solve_ivp\n",
    "from scipy.interpolate import BarycentricInterpolator\n",
    "from scipy.optimize import least_squares\n",
    "import matplotlib.pyplot as plt\n",
    "\n",
    "# ─── 1) Synthetic reference data ────────────────────────────\n",
    "t_ref = np.linspace(0, 10, 200)\n",
    "A_ref, f_ref, damping, noise = 0.5, 1.5, 0.1, 0.02\n",
    "theta2_ref = A_ref * np.exp(-damping * t_ref) * np.sin(2*np.pi*f_ref*t_ref)\n",
    "theta2_ref += noise * np.random.randn(len(t_ref))\n",
    "\n",
    "\n",
    "# Made-up data\n",
    "n = 20 # keep below 30 for stability\n",
    "t_array = np.linspace(0, 10, n)\n",
    "y_array = 0.1 * cos(pi * t_array)\n",
    "theta_1_array = sin(pi * t_array)\n"
   ]
  },
  {
   "cell_type": "code",
   "execution_count": 94,
   "id": "cf0d9e47",
   "metadata": {},
   "outputs": [],
   "source": [
    "# ─── 2) Build your input interpolators ───────────────────────────────────────\n",
    "n_input = 20\n",
    "t_in = np.linspace(0, 2, n_input)\n",
    "y_in = 0.1 * np.cos(np.pi * t_in)\n",
    "theta1_in = np.sin(np.pi * t_in)\n",
    "y_ip      = BarycentricInterpolator(t_in, y_in)\n",
    "theta1_ip = BarycentricInterpolator(t_in, theta1_in)\n",
    "\n",
    "def a_func(t):     return y_ip.derivative(t, 2)\n",
    "def theta1_func(t):return theta1_ip(t)\n",
    "def omega1_func(t):return theta1_ip.derivative(t, 1)\n",
    "def alpha1_func(t):return theta1_ip.derivative(t, 2)\n",
    "\n",
    "# ─── 3) Simulation wrapper now only takes 5 params ───────────────────────────\n",
    "def simulate_theta2(free_params, t_eval):\n",
    "    \"\"\"\n",
    "    free_params = [m1, m2, kB, bB, psiB]\n",
    "    uses fixed l1, l2 from outer scope\n",
    "    \"\"\"\n",
    "    m1, m2, kB, bB, psiB = free_params\n",
    "    g = 9.81\n",
    "\n",
    "    def swing_param(t, state):\n",
    "        theta2, omega2 = state\n",
    "        # inputs\n",
    "        a   = a_func(t)\n",
    "        th1 = theta1_func(t)\n",
    "        om1 = omega1_func(t)\n",
    "        alp1= alpha1_func(t)\n",
    "        # EOM for swing‐leg angular acceleration\n",
    "        alpha2 = (\n",
    "            3*bB*om1/(l2**2*m2)\n",
    "          - 3*bB*omega2/(l2**2*m2)\n",
    "          - 3*g*np.sin(theta2)/(2*l2)\n",
    "          - 3*kB*psiB/(l2**2*m2)\n",
    "          + 3*kB*th1/(l2**2*m2)\n",
    "          - 3*kB*theta2/(l2**2*m2)\n",
    "          + 3*l1*np.sin(th1 - theta2)*om1**2/(2*l2)\n",
    "          - 3*l1*np.cos(th1 - theta2)*alp1/(2*l2)\n",
    "          - 3*np.sin(theta2)*a/(2*l2)\n",
    "        )\n",
    "        return [omega2, alpha2]\n",
    "\n",
    "    # initial cond: start at ref angle, zero vel\n",
    "    y0 = [theta2_ref[0], 0.0]\n",
    "    sol = solve_ivp(swing_param,\n",
    "                    (t_eval[0], t_eval[-1]),\n",
    "                    y0,\n",
    "                    t_eval=t_eval,\n",
    "                    max_step=0.01)\n",
    "    return sol.t, sol.y[0]\n",
    "\n",
    "# ─── 4) Residuals function ───────────────────────────────────────────────────\n",
    "def residuals(free_params):\n",
    "    t_sim, th2_sim = simulate_theta2(free_params, t_ref)\n",
    "    th2_on_ref = np.interp(t_ref, t_sim, th2_sim)\n",
    "    return th2_on_ref - theta2_ref\n"
   ]
  },
  {
   "cell_type": "code",
   "execution_count": 95,
   "id": "eb7991c2",
   "metadata": {},
   "outputs": [
    {
     "name": "stdout",
     "output_type": "stream",
     "text": [
      "Starting optimization...\n"
     ]
    },
    {
     "name": "stderr",
     "output_type": "stream",
     "text": [
      "C:\\Users\\mehra\\AppData\\Local\\Temp/ipykernel_13368/1297609230.py:32: RuntimeWarning: invalid value encountered in double_scalars\n",
      "  3*bB*om1/(l2**2*m2)\n",
      "C:\\Users\\mehra\\AppData\\Local\\Temp/ipykernel_13368/1297609230.py:38: RuntimeWarning: invalid value encountered in sin\n",
      "  + 3*l1*np.sin(th1 - theta2)*om1**2/(2*l2)\n",
      "C:\\Users\\mehra\\AppData\\Local\\Temp/ipykernel_13368/1297609230.py:39: RuntimeWarning: invalid value encountered in cos\n",
      "  - 3*l1*np.cos(th1 - theta2)*alp1/(2*l2)\n"
     ]
    },
    {
     "ename": "KeyboardInterrupt",
     "evalue": "",
     "output_type": "error",
     "traceback": [
      "\u001b[1;31m---------------------------------------------------------------------------\u001b[0m",
      "\u001b[1;31mKeyboardInterrupt\u001b[0m                         Traceback (most recent call last)",
      "\u001b[1;32m~\\AppData\\Local\\Temp/ipykernel_13368/3153049000.py\u001b[0m in \u001b[0;36m<module>\u001b[1;34m\u001b[0m\n\u001b[0;32m     14\u001b[0m \u001b[1;33m\u001b[0m\u001b[0m\n\u001b[0;32m     15\u001b[0m \u001b[0mprint\u001b[0m\u001b[1;33m(\u001b[0m\u001b[1;34m\"Starting optimization...\"\u001b[0m\u001b[1;33m)\u001b[0m\u001b[1;33m\u001b[0m\u001b[1;33m\u001b[0m\u001b[0m\n\u001b[1;32m---> 16\u001b[1;33m result = least_squares(residuals, p0, bounds=(lower, upper),\n\u001b[0m\u001b[0;32m     17\u001b[0m                        xtol=1e-6, ftol=1e-6, verbose=2)\n\u001b[0;32m     18\u001b[0m \u001b[1;33m\u001b[0m\u001b[0m\n",
      "\u001b[1;32m~\\anaconda3\\lib\\site-packages\\scipy\\optimize\\_lsq\\least_squares.py\u001b[0m in \u001b[0;36mleast_squares\u001b[1;34m(fun, x0, jac, bounds, method, ftol, xtol, gtol, x_scale, loss, f_scale, diff_step, tr_solver, tr_options, jac_sparsity, max_nfev, verbose, args, kwargs)\u001b[0m\n\u001b[0;32m    830\u001b[0m         \u001b[1;32mreturn\u001b[0m \u001b[0mnp\u001b[0m\u001b[1;33m.\u001b[0m\u001b[0matleast_1d\u001b[0m\u001b[1;33m(\u001b[0m\u001b[0mfun\u001b[0m\u001b[1;33m(\u001b[0m\u001b[0mx\u001b[0m\u001b[1;33m,\u001b[0m \u001b[1;33m*\u001b[0m\u001b[0margs\u001b[0m\u001b[1;33m,\u001b[0m \u001b[1;33m**\u001b[0m\u001b[0mkwargs\u001b[0m\u001b[1;33m)\u001b[0m\u001b[1;33m)\u001b[0m\u001b[1;33m\u001b[0m\u001b[1;33m\u001b[0m\u001b[0m\n\u001b[0;32m    831\u001b[0m \u001b[1;33m\u001b[0m\u001b[0m\n\u001b[1;32m--> 832\u001b[1;33m     \u001b[0mf0\u001b[0m \u001b[1;33m=\u001b[0m \u001b[0mfun_wrapped\u001b[0m\u001b[1;33m(\u001b[0m\u001b[0mx0\u001b[0m\u001b[1;33m)\u001b[0m\u001b[1;33m\u001b[0m\u001b[1;33m\u001b[0m\u001b[0m\n\u001b[0m\u001b[0;32m    833\u001b[0m \u001b[1;33m\u001b[0m\u001b[0m\n\u001b[0;32m    834\u001b[0m     \u001b[1;32mif\u001b[0m \u001b[0mf0\u001b[0m\u001b[1;33m.\u001b[0m\u001b[0mndim\u001b[0m \u001b[1;33m!=\u001b[0m \u001b[1;36m1\u001b[0m\u001b[1;33m:\u001b[0m\u001b[1;33m\u001b[0m\u001b[1;33m\u001b[0m\u001b[0m\n",
      "\u001b[1;32m~\\anaconda3\\lib\\site-packages\\scipy\\optimize\\_lsq\\least_squares.py\u001b[0m in \u001b[0;36mfun_wrapped\u001b[1;34m(x)\u001b[0m\n\u001b[0;32m    828\u001b[0m \u001b[1;33m\u001b[0m\u001b[0m\n\u001b[0;32m    829\u001b[0m     \u001b[1;32mdef\u001b[0m \u001b[0mfun_wrapped\u001b[0m\u001b[1;33m(\u001b[0m\u001b[0mx\u001b[0m\u001b[1;33m)\u001b[0m\u001b[1;33m:\u001b[0m\u001b[1;33m\u001b[0m\u001b[1;33m\u001b[0m\u001b[0m\n\u001b[1;32m--> 830\u001b[1;33m         \u001b[1;32mreturn\u001b[0m \u001b[0mnp\u001b[0m\u001b[1;33m.\u001b[0m\u001b[0matleast_1d\u001b[0m\u001b[1;33m(\u001b[0m\u001b[0mfun\u001b[0m\u001b[1;33m(\u001b[0m\u001b[0mx\u001b[0m\u001b[1;33m,\u001b[0m \u001b[1;33m*\u001b[0m\u001b[0margs\u001b[0m\u001b[1;33m,\u001b[0m \u001b[1;33m**\u001b[0m\u001b[0mkwargs\u001b[0m\u001b[1;33m)\u001b[0m\u001b[1;33m)\u001b[0m\u001b[1;33m\u001b[0m\u001b[1;33m\u001b[0m\u001b[0m\n\u001b[0m\u001b[0;32m    831\u001b[0m \u001b[1;33m\u001b[0m\u001b[0m\n\u001b[0;32m    832\u001b[0m     \u001b[0mf0\u001b[0m \u001b[1;33m=\u001b[0m \u001b[0mfun_wrapped\u001b[0m\u001b[1;33m(\u001b[0m\u001b[0mx0\u001b[0m\u001b[1;33m)\u001b[0m\u001b[1;33m\u001b[0m\u001b[1;33m\u001b[0m\u001b[0m\n",
      "\u001b[1;32m~\\AppData\\Local\\Temp/ipykernel_13368/1297609230.py\u001b[0m in \u001b[0;36mresiduals\u001b[1;34m(free_params)\u001b[0m\n\u001b[0;32m     53\u001b[0m \u001b[1;31m# ─── 4) Residuals function ───────────────────────────────────────────────────\u001b[0m\u001b[1;33m\u001b[0m\u001b[1;33m\u001b[0m\u001b[0m\n\u001b[0;32m     54\u001b[0m \u001b[1;32mdef\u001b[0m \u001b[0mresiduals\u001b[0m\u001b[1;33m(\u001b[0m\u001b[0mfree_params\u001b[0m\u001b[1;33m)\u001b[0m\u001b[1;33m:\u001b[0m\u001b[1;33m\u001b[0m\u001b[1;33m\u001b[0m\u001b[0m\n\u001b[1;32m---> 55\u001b[1;33m     \u001b[0mt_sim\u001b[0m\u001b[1;33m,\u001b[0m \u001b[0mth2_sim\u001b[0m \u001b[1;33m=\u001b[0m \u001b[0msimulate_theta2\u001b[0m\u001b[1;33m(\u001b[0m\u001b[0mfree_params\u001b[0m\u001b[1;33m,\u001b[0m \u001b[0mt_ref\u001b[0m\u001b[1;33m)\u001b[0m\u001b[1;33m\u001b[0m\u001b[1;33m\u001b[0m\u001b[0m\n\u001b[0m\u001b[0;32m     56\u001b[0m     \u001b[0mth2_on_ref\u001b[0m \u001b[1;33m=\u001b[0m \u001b[0mnp\u001b[0m\u001b[1;33m.\u001b[0m\u001b[0minterp\u001b[0m\u001b[1;33m(\u001b[0m\u001b[0mt_ref\u001b[0m\u001b[1;33m,\u001b[0m \u001b[0mt_sim\u001b[0m\u001b[1;33m,\u001b[0m \u001b[0mth2_sim\u001b[0m\u001b[1;33m)\u001b[0m\u001b[1;33m\u001b[0m\u001b[1;33m\u001b[0m\u001b[0m\n\u001b[0;32m     57\u001b[0m     \u001b[1;32mreturn\u001b[0m \u001b[0mth2_on_ref\u001b[0m \u001b[1;33m-\u001b[0m \u001b[0mtheta2_ref\u001b[0m\u001b[1;33m\u001b[0m\u001b[1;33m\u001b[0m\u001b[0m\n",
      "\u001b[1;32m~\\AppData\\Local\\Temp/ipykernel_13368/1297609230.py\u001b[0m in \u001b[0;36msimulate_theta2\u001b[1;34m(free_params, t_eval)\u001b[0m\n\u001b[0;32m     44\u001b[0m     \u001b[1;31m# initial cond: start at ref angle, zero vel\u001b[0m\u001b[1;33m\u001b[0m\u001b[1;33m\u001b[0m\u001b[0m\n\u001b[0;32m     45\u001b[0m     \u001b[0my0\u001b[0m \u001b[1;33m=\u001b[0m \u001b[1;33m[\u001b[0m\u001b[0mtheta2_ref\u001b[0m\u001b[1;33m[\u001b[0m\u001b[1;36m0\u001b[0m\u001b[1;33m]\u001b[0m\u001b[1;33m,\u001b[0m \u001b[1;36m0.0\u001b[0m\u001b[1;33m]\u001b[0m\u001b[1;33m\u001b[0m\u001b[1;33m\u001b[0m\u001b[0m\n\u001b[1;32m---> 46\u001b[1;33m     sol = solve_ivp(swing_param,\n\u001b[0m\u001b[0;32m     47\u001b[0m                     \u001b[1;33m(\u001b[0m\u001b[0mt_eval\u001b[0m\u001b[1;33m[\u001b[0m\u001b[1;36m0\u001b[0m\u001b[1;33m]\u001b[0m\u001b[1;33m,\u001b[0m \u001b[0mt_eval\u001b[0m\u001b[1;33m[\u001b[0m\u001b[1;33m-\u001b[0m\u001b[1;36m1\u001b[0m\u001b[1;33m]\u001b[0m\u001b[1;33m)\u001b[0m\u001b[1;33m,\u001b[0m\u001b[1;33m\u001b[0m\u001b[1;33m\u001b[0m\u001b[0m\n\u001b[0;32m     48\u001b[0m                     \u001b[0my0\u001b[0m\u001b[1;33m,\u001b[0m\u001b[1;33m\u001b[0m\u001b[1;33m\u001b[0m\u001b[0m\n",
      "\u001b[1;32m~\\anaconda3\\lib\\site-packages\\scipy\\integrate\\_ivp\\ivp.py\u001b[0m in \u001b[0;36msolve_ivp\u001b[1;34m(fun, t_span, y0, method, t_eval, dense_output, events, vectorized, args, **options)\u001b[0m\n\u001b[0;32m    653\u001b[0m     \u001b[0mstatus\u001b[0m \u001b[1;33m=\u001b[0m \u001b[1;32mNone\u001b[0m\u001b[1;33m\u001b[0m\u001b[1;33m\u001b[0m\u001b[0m\n\u001b[0;32m    654\u001b[0m     \u001b[1;32mwhile\u001b[0m \u001b[0mstatus\u001b[0m \u001b[1;32mis\u001b[0m \u001b[1;32mNone\u001b[0m\u001b[1;33m:\u001b[0m\u001b[1;33m\u001b[0m\u001b[1;33m\u001b[0m\u001b[0m\n\u001b[1;32m--> 655\u001b[1;33m         \u001b[0mmessage\u001b[0m \u001b[1;33m=\u001b[0m \u001b[0msolver\u001b[0m\u001b[1;33m.\u001b[0m\u001b[0mstep\u001b[0m\u001b[1;33m(\u001b[0m\u001b[1;33m)\u001b[0m\u001b[1;33m\u001b[0m\u001b[1;33m\u001b[0m\u001b[0m\n\u001b[0m\u001b[0;32m    656\u001b[0m \u001b[1;33m\u001b[0m\u001b[0m\n\u001b[0;32m    657\u001b[0m         \u001b[1;32mif\u001b[0m \u001b[0msolver\u001b[0m\u001b[1;33m.\u001b[0m\u001b[0mstatus\u001b[0m \u001b[1;33m==\u001b[0m \u001b[1;34m'finished'\u001b[0m\u001b[1;33m:\u001b[0m\u001b[1;33m\u001b[0m\u001b[1;33m\u001b[0m\u001b[0m\n",
      "\u001b[1;32m~\\anaconda3\\lib\\site-packages\\scipy\\integrate\\_ivp\\base.py\u001b[0m in \u001b[0;36mstep\u001b[1;34m(self)\u001b[0m\n\u001b[0;32m    195\u001b[0m         \u001b[1;32melse\u001b[0m\u001b[1;33m:\u001b[0m\u001b[1;33m\u001b[0m\u001b[1;33m\u001b[0m\u001b[0m\n\u001b[0;32m    196\u001b[0m             \u001b[0mt\u001b[0m \u001b[1;33m=\u001b[0m \u001b[0mself\u001b[0m\u001b[1;33m.\u001b[0m\u001b[0mt\u001b[0m\u001b[1;33m\u001b[0m\u001b[1;33m\u001b[0m\u001b[0m\n\u001b[1;32m--> 197\u001b[1;33m             \u001b[0msuccess\u001b[0m\u001b[1;33m,\u001b[0m \u001b[0mmessage\u001b[0m \u001b[1;33m=\u001b[0m \u001b[0mself\u001b[0m\u001b[1;33m.\u001b[0m\u001b[0m_step_impl\u001b[0m\u001b[1;33m(\u001b[0m\u001b[1;33m)\u001b[0m\u001b[1;33m\u001b[0m\u001b[1;33m\u001b[0m\u001b[0m\n\u001b[0m\u001b[0;32m    198\u001b[0m \u001b[1;33m\u001b[0m\u001b[0m\n\u001b[0;32m    199\u001b[0m             \u001b[1;32mif\u001b[0m \u001b[1;32mnot\u001b[0m \u001b[0msuccess\u001b[0m\u001b[1;33m:\u001b[0m\u001b[1;33m\u001b[0m\u001b[1;33m\u001b[0m\u001b[0m\n",
      "\u001b[1;32m~\\anaconda3\\lib\\site-packages\\scipy\\integrate\\_ivp\\rk.py\u001b[0m in \u001b[0;36m_step_impl\u001b[1;34m(self)\u001b[0m\n\u001b[0;32m    142\u001b[0m             \u001b[0mh_abs\u001b[0m \u001b[1;33m=\u001b[0m \u001b[0mnp\u001b[0m\u001b[1;33m.\u001b[0m\u001b[0mabs\u001b[0m\u001b[1;33m(\u001b[0m\u001b[0mh\u001b[0m\u001b[1;33m)\u001b[0m\u001b[1;33m\u001b[0m\u001b[1;33m\u001b[0m\u001b[0m\n\u001b[0;32m    143\u001b[0m \u001b[1;33m\u001b[0m\u001b[0m\n\u001b[1;32m--> 144\u001b[1;33m             y_new, f_new = rk_step(self.fun, t, y, self.f, h, self.A,\n\u001b[0m\u001b[0;32m    145\u001b[0m                                    self.B, self.C, self.K)\n\u001b[0;32m    146\u001b[0m             \u001b[0mscale\u001b[0m \u001b[1;33m=\u001b[0m \u001b[0matol\u001b[0m \u001b[1;33m+\u001b[0m \u001b[0mnp\u001b[0m\u001b[1;33m.\u001b[0m\u001b[0mmaximum\u001b[0m\u001b[1;33m(\u001b[0m\u001b[0mnp\u001b[0m\u001b[1;33m.\u001b[0m\u001b[0mabs\u001b[0m\u001b[1;33m(\u001b[0m\u001b[0my\u001b[0m\u001b[1;33m)\u001b[0m\u001b[1;33m,\u001b[0m \u001b[0mnp\u001b[0m\u001b[1;33m.\u001b[0m\u001b[0mabs\u001b[0m\u001b[1;33m(\u001b[0m\u001b[0my_new\u001b[0m\u001b[1;33m)\u001b[0m\u001b[1;33m)\u001b[0m \u001b[1;33m*\u001b[0m \u001b[0mrtol\u001b[0m\u001b[1;33m\u001b[0m\u001b[1;33m\u001b[0m\u001b[0m\n",
      "\u001b[1;32m~\\anaconda3\\lib\\site-packages\\scipy\\integrate\\_ivp\\rk.py\u001b[0m in \u001b[0;36mrk_step\u001b[1;34m(fun, t, y, f, h, A, B, C, K)\u001b[0m\n\u001b[0;32m     61\u001b[0m     \u001b[0mK\u001b[0m\u001b[1;33m[\u001b[0m\u001b[1;36m0\u001b[0m\u001b[1;33m]\u001b[0m \u001b[1;33m=\u001b[0m \u001b[0mf\u001b[0m\u001b[1;33m\u001b[0m\u001b[1;33m\u001b[0m\u001b[0m\n\u001b[0;32m     62\u001b[0m     \u001b[1;32mfor\u001b[0m \u001b[0ms\u001b[0m\u001b[1;33m,\u001b[0m \u001b[1;33m(\u001b[0m\u001b[0ma\u001b[0m\u001b[1;33m,\u001b[0m \u001b[0mc\u001b[0m\u001b[1;33m)\u001b[0m \u001b[1;32min\u001b[0m \u001b[0menumerate\u001b[0m\u001b[1;33m(\u001b[0m\u001b[0mzip\u001b[0m\u001b[1;33m(\u001b[0m\u001b[0mA\u001b[0m\u001b[1;33m[\u001b[0m\u001b[1;36m1\u001b[0m\u001b[1;33m:\u001b[0m\u001b[1;33m]\u001b[0m\u001b[1;33m,\u001b[0m \u001b[0mC\u001b[0m\u001b[1;33m[\u001b[0m\u001b[1;36m1\u001b[0m\u001b[1;33m:\u001b[0m\u001b[1;33m]\u001b[0m\u001b[1;33m)\u001b[0m\u001b[1;33m,\u001b[0m \u001b[0mstart\u001b[0m\u001b[1;33m=\u001b[0m\u001b[1;36m1\u001b[0m\u001b[1;33m)\u001b[0m\u001b[1;33m:\u001b[0m\u001b[1;33m\u001b[0m\u001b[1;33m\u001b[0m\u001b[0m\n\u001b[1;32m---> 63\u001b[1;33m         \u001b[0mdy\u001b[0m \u001b[1;33m=\u001b[0m \u001b[0mnp\u001b[0m\u001b[1;33m.\u001b[0m\u001b[0mdot\u001b[0m\u001b[1;33m(\u001b[0m\u001b[0mK\u001b[0m\u001b[1;33m[\u001b[0m\u001b[1;33m:\u001b[0m\u001b[0ms\u001b[0m\u001b[1;33m]\u001b[0m\u001b[1;33m.\u001b[0m\u001b[0mT\u001b[0m\u001b[1;33m,\u001b[0m \u001b[0ma\u001b[0m\u001b[1;33m[\u001b[0m\u001b[1;33m:\u001b[0m\u001b[0ms\u001b[0m\u001b[1;33m]\u001b[0m\u001b[1;33m)\u001b[0m \u001b[1;33m*\u001b[0m \u001b[0mh\u001b[0m\u001b[1;33m\u001b[0m\u001b[1;33m\u001b[0m\u001b[0m\n\u001b[0m\u001b[0;32m     64\u001b[0m         \u001b[0mK\u001b[0m\u001b[1;33m[\u001b[0m\u001b[0ms\u001b[0m\u001b[1;33m]\u001b[0m \u001b[1;33m=\u001b[0m \u001b[0mfun\u001b[0m\u001b[1;33m(\u001b[0m\u001b[0mt\u001b[0m \u001b[1;33m+\u001b[0m \u001b[0mc\u001b[0m \u001b[1;33m*\u001b[0m \u001b[0mh\u001b[0m\u001b[1;33m,\u001b[0m \u001b[0my\u001b[0m \u001b[1;33m+\u001b[0m \u001b[0mdy\u001b[0m\u001b[1;33m)\u001b[0m\u001b[1;33m\u001b[0m\u001b[1;33m\u001b[0m\u001b[0m\n\u001b[0;32m     65\u001b[0m \u001b[1;33m\u001b[0m\u001b[0m\n",
      "\u001b[1;32m~\\anaconda3\\lib\\site-packages\\numpy\\core\\overrides.py\u001b[0m in \u001b[0;36mdot\u001b[1;34m(*args, **kwargs)\u001b[0m\n",
      "\u001b[1;31mKeyboardInterrupt\u001b[0m: "
     ]
    }
   ],
   "source": [
    "# ─── 5) Parameters to optimize ────────────────────────────\n",
    "\n",
    "H = 1.75\n",
    "l1 = 0.25 * H    # femur\n",
    "l2 = 0.25 * H    # tibia\n",
    "\n",
    "# Initial Values\n",
    "p0    = [5.0, 5.0,    # m1, m2\n",
    "         1.0, 1.0,    # kB, bB\n",
    "         np.pi/12]    # psiB\n",
    "\n",
    "lower = [3, 3, 0.0, 0.0, 0.0]\n",
    "upper = [10, 10, 10.0, 10.0, np.pi/6]\n",
    "\n",
    "print(\"Starting optimization...\")\n",
    "result = least_squares(residuals, p0, bounds=(lower, upper),\n",
    "                       xtol=1e-6, ftol=1e-6, verbose=2)\n",
    "\n",
    "# ─── 6) Report fitted values ────────────────────────────────────────────────\n",
    "names = [\"m1\",\"m2\",\"kB\",\"bB\",\"psiB\"]\n",
    "print(\"\\nFitted parameters:\")\n",
    "for name, val in zip(names, result.x):\n",
    "    print(f\"  {name} = {val:.4f}\")\n"
   ]
  },
  {
   "cell_type": "code",
   "execution_count": 53,
   "id": "861673c0",
   "metadata": {},
   "outputs": [
    {
     "data": {
      "image/png": "[encoded data removed]",
      "text/plain": [
       "<Figure size 576x360 with 1 Axes>"
      ]
     },
     "metadata": {
      "needs_background": "light"
     },
     "output_type": "display_data"
    }
   ],
   "source": [
    "# ─── 7) (Optional) Plot before vs. after ────────────────────────────────────\n",
    "_, th2_before = simulate_theta2(p0, t_ref)\n",
    "_, th2_after  = simulate_theta2(result.x, t_ref)\n",
    "\n",
    "plt.figure(figsize=(8,5))\n",
    "plt.plot(t_ref, theta2_ref, 'k.', alpha=0.5, label='reference')\n",
    "plt.plot(t_ref, th2_before,'r--', lw=2, label='initial')\n",
    "plt.plot(t_ref, th2_after, 'b-',  lw=2, label='fitted')\n",
    "plt.xlabel('Time [s]')\n",
    "plt.ylabel(r'$\\theta_2$ [rad]')\n",
    "plt.legend()\n",
    "plt.title('Before vs. After Optimization')\n",
    "plt.grid(True)\n",
    "plt.tight_layout()\n",
    "plt.show()\n"
   ]
  },
  {
   "cell_type": "code",
   "execution_count": null,
   "id": "e2cb2651",
   "metadata": {},
   "outputs": [],
   "source": []
  },
  {
   "cell_type": "code",
   "execution_count": null,
   "id": "e18bfb93",
   "metadata": {},
   "outputs": [],
   "source": []
  },
  {
   "cell_type": "code",
   "execution_count": null,
   "id": "2f063bf2",
   "metadata": {},
   "outputs": [],
   "source": []
  },
  {
   "cell_type": "code",
   "execution_count": 112,
   "id": "4180b807",
   "metadata": {},
   "outputs": [],
   "source": [
    "import numpy as np\n",
    "from scipy.integrate import solve_ivp\n",
    "from scipy.interpolate import BarycentricInterpolator\n",
    "from scipy.optimize import least_squares\n",
    "import matplotlib.pyplot as plt\n",
    "\n",
    "# ─── 1) Synthetic reference data ────────────────────────────\n",
    "t_ref = np.linspace(0, 10, 200)\n",
    "A_ref, f_ref, damping, noise = 0.5, 1.5, 0.5, 0.02\n",
    "theta2_ref = A_ref * np.exp(-damping * t_ref) * np.sin(2*np.pi*f_ref*t_ref)\n",
    "theta2_ref += noise * np.random.randn(len(t_ref))\n",
    "\n",
    "# Realistic gait parameters\n",
    "#t_ref = np.linspace(0, 10, 200)  # 2 seconds, typical walking stride duration\n",
    "#A_ref = 0.5 #np.deg2rad(40)           # amplitude ~40 degrees in radians (~0.7 rad)\n",
    "#f_ref = 0.75                    # frequency ~1.2 Hz (typical walking step frequency)\n",
    "#damping = 0.5                  # low damping to mimic steady gait\n",
    "#noise = 0.05                    # small noise level for realism\n",
    "\n",
    "# Synthetic gait angle data (theta2_ref)\n",
    "#theta2_ref = A_ref * np.exp(-damping * t_ref) * np.sin(2 * np.pi * f_ref * t_ref)\n",
    "#theta2_ref += noise * np.random.randn(len(t_ref))\n",
    "\n",
    "# ─── 2) Build your input interpolators ───────────────────────────────────────\n",
    "n_input = 20\n",
    "t_in = np.linspace(0, 10, n_input)\n",
    "y_in = 0.1 * np.cos(np.pi * t_in)\n",
    "theta1_in = np.sin(np.pi * t_in)\n",
    "y_ip      = BarycentricInterpolator(t_in, y_in)\n",
    "theta1_ip = BarycentricInterpolator(t_in, theta1_in)\n",
    "\n",
    "def a_func(t):     return y_ip.derivative(t, 2)\n",
    "def theta1_func(t):return theta1_ip(t)\n",
    "def omega1_func(t):return theta1_ip.derivative(t, 1)\n",
    "def alpha1_func(t):return theta1_ip.derivative(t, 2)\n",
    "\n",
    "# ─── 3) Simulation wrapper now only takes 5 params ───────────────────────────\n",
    "def simulate_theta2(free_params, t_eval):\n",
    "    \"\"\"\n",
    "    free_params = [m1, m2, kB, bB, psiB]\n",
    "    uses fixed l1, l2 from outer scope\n",
    "    \"\"\"\n",
    "    m1, m2, kB, bB, psiB = free_params\n",
    "    g = 9.81\n",
    "\n",
    "    def swing_param(t, state):\n",
    "        theta2, omega2 = state\n",
    "        # inputs\n",
    "        a   = a_func(t)\n",
    "        th1 = theta1_func(t)\n",
    "        om1 = omega1_func(t)\n",
    "        alp1= alpha1_func(t)\n",
    "        # EOM for swing‐leg angular acceleration\n",
    "        alpha2 = (\n",
    "            3*bB*om1/(l2**2*m2)\n",
    "          - 3*bB*omega2/(l2**2*m2)\n",
    "          - 3*g*np.sin(theta2)/(2*l2)\n",
    "          - 3*kB*psiB/(l2**2*m2)\n",
    "          + 3*kB*th1/(l2**2*m2)\n",
    "          - 3*kB*theta2/(l2**2*m2)\n",
    "          + 3*l1*np.sin(th1 - theta2)*om1**2/(2*l2)\n",
    "          - 3*l1*np.cos(th1 - theta2)*alp1/(2*l2)\n",
    "          - 3*np.sin(theta2)*a/(2*l2)\n",
    "        )\n",
    "        return [omega2, alpha2]\n",
    "\n",
    "    # initial cond: start at ref angle, zero vel\n",
    "    y0 = [theta2_ref[0], 0.0]\n",
    "    sol = solve_ivp(swing_param,\n",
    "                    (t_eval[0], t_eval[-1]),\n",
    "                    y0,\n",
    "                    t_eval=t_eval,\n",
    "                    max_step=0.01)\n",
    "    return sol.t, sol.y[0]\n",
    "\n",
    "# ─── 4) Residuals function ───────────────────────────────────────────────────\n",
    "def residuals(free_params):\n",
    "    t_sim, th2_sim = simulate_theta2(free_params, t_ref)\n",
    "    th2_on_ref = np.interp(t_ref, t_sim, th2_sim)\n",
    "    return th2_on_ref - theta2_ref\n"
   ]
  },
  {
   "cell_type": "code",
   "execution_count": 113,
   "id": "a2f05228",
   "metadata": {},
   "outputs": [
    {
     "name": "stdout",
     "output_type": "stream",
     "text": [
      "Starting optimization...\n",
      "   Iteration     Total nfev        Cost      Cost reduction    Step norm     Optimality   \n",
      "       0              1         3.2041e+03                                    1.08e+04    \n",
      "       1              2         8.9050e+02      2.31e+03       2.44e+00       3.10e+02    \n",
      "       2              3         8.0151e+02      8.90e+01       2.20e+00       1.85e+02    \n",
      "       3              4         4.5258e+02      3.49e+02       2.79e+00       1.09e+02    \n",
      "       4              5         4.2235e+02      3.02e+01       2.02e+00       1.26e+01    \n",
      "       5              6         4.1427e+02      8.08e+00       8.64e-01       6.81e+00    \n",
      "       6              7         4.1127e+02      3.00e+00       2.29e+00       4.92e+00    \n",
      "       7              8         4.0960e+02      1.67e+00       4.26e-01       3.18e+00    \n",
      "       8              9         4.0872e+02      8.81e-01       2.91e-01       2.20e+00    \n",
      "       9             10         4.0811e+02      6.03e-01       2.09e-01       1.56e+00    \n",
      "      10             11         4.0768e+02      4.29e-01       1.54e-01       1.13e+00    \n",
      "      11             12         4.0737e+02      3.13e-01       1.17e-01       8.31e-01    \n",
      "      12             13         4.0714e+02      2.33e-01       9.02e-02       6.15e-01    \n",
      "      13             15         4.0639e+02      7.43e-01       6.47e-01       2.53e-01    \n",
      "      14             16         4.0615e+02      2.49e-01       1.03e-01       2.20e-03    \n",
      "      15             17         4.0614e+02      6.44e-04       2.55e-04       2.07e-03    \n",
      "      16             18         4.0614e+02      4.62e-04       2.28e-04       1.95e-03    \n",
      "      17             19         4.0614e+02      3.47e-04       2.07e-04       1.83e-03    \n",
      "`ftol` termination condition is satisfied.\n",
      "Function evaluations 19, initial cost 3.2041e+03, final cost 4.0614e+02, first-order optimality 1.83e-03.\n",
      "\n",
      "Fitted parameters:\n",
      "  m1 = 5.0000\n",
      "  m2 = 3.0000\n",
      "  kB = 9.9970\n",
      "  bB = 9.9998\n",
      "  psiB = 0.0000\n"
     ]
    }
   ],
   "source": [
    "H = 1.75\n",
    "l1 = 0.25 * H    # femur\n",
    "l2 = 0.25 * H    # tibia\n",
    "\n",
    "# Initial Values\n",
    "p0    = [5.0, 5.0,    # m1, m2\n",
    "         1.0, 1.0,    # kB, bB\n",
    "         np.pi/12]    # psiB\n",
    "\n",
    "lower = [3, 3, 0.0, 0.0, 0.0]\n",
    "upper = [20, 20, 10.0, 10.0, np.pi/6]\n",
    "\n",
    "print(\"Starting optimization...\")\n",
    "result = least_squares(residuals, p0, bounds=(lower, upper),\n",
    "                       xtol=1e-6, ftol=1e-6, verbose=2)\n",
    "\n",
    "# ─── 6) Report fitted values ────────────────────────────────────────────────\n",
    "names = [\"m1\",\"m2\",\"kB\",\"bB\",\"psiB\"]\n",
    "print(\"\\nFitted parameters:\")\n",
    "for name, val in zip(names, result.x):\n",
    "    print(f\"  {name} = {val:.4f}\")\n"
   ]
  },
  {
   "cell_type": "code",
   "execution_count": 114,
   "id": "3c3dac0f",
   "metadata": {},
   "outputs": [
    {
     "data": {
      "image/png": "[encoded data removed]",
      "text/plain": [
       "<Figure size 576x360 with 1 Axes>"
      ]
     },
     "metadata": {
      "needs_background": "light"
     },
     "output_type": "display_data"
    }
   ],
   "source": [
    "# ─── 7) (Optional) Plot before vs. after ────────────────────────────────────\n",
    "_, th2_before = simulate_theta2(p0, t_ref)\n",
    "_, th2_after  = simulate_theta2(result.x, t_ref)\n",
    "\n",
    "plt.figure(figsize=(8,5))\n",
    "plt.plot(t_ref, theta2_ref, 'k.', alpha=0.5, label='reference')\n",
    "plt.plot(t_ref, th2_before,'r--', lw=2, label='initial')\n",
    "plt.plot(t_ref, th2_after, 'b-',  lw=2, label='fitted')\n",
    "plt.xlabel('Time [s]')\n",
    "plt.ylabel(r'$\\theta_2$ [rad]')\n",
    "plt.legend()\n",
    "plt.title('Before vs. After Optimization')\n",
    "plt.grid(True)\n",
    "plt.tight_layout()\n",
    "plt.show()"
   ]
  },
  {
   "cell_type": "code",
   "execution_count": null,
   "id": "5483c4db",
   "metadata": {},
   "outputs": [],
   "source": []
  }
 ],
 "metadata": {
  "kernelspec": {
   "display_name": "Python 3 (ipykernel)",
   "language": "python",
   "name": "python3"
  },
  "language_info": {
   "codemirror_mode": {
    "name": "ipython",
    "version": 3
   },
   "file_extension": ".py",
   "mimetype": "text/x-python",
   "name": "python",
   "nbconvert_exporter": "python",
   "pygments_lexer": "ipython3",
   "version": "3.9.7"
  }
 },
 "nbformat": 4,
 "nbformat_minor": 5
}
